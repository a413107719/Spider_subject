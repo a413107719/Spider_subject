{
 "cells": [
  {
   "cell_type": "code",
   "execution_count": 1,
   "metadata": {},
   "outputs": [],
   "source": [
    "import os\n",
    "import pandas as pd\n",
    "import re"
   ]
  },
  {
   "cell_type": "code",
   "execution_count": 2,
   "metadata": {},
   "outputs": [],
   "source": [
    "li = []\n",
    "for file in os.listdir():\n",
    "    if file[-3:] == 'csv':\n",
    "        li.append(pd.read_csv(file,encoding='gbk'))"
   ]
  },
  {
   "cell_type": "code",
   "execution_count": 3,
   "metadata": {},
   "outputs": [],
   "source": [
    "data = pd.concat(li)"
   ]
  },
  {
   "cell_type": "code",
   "execution_count": 4,
   "metadata": {},
   "outputs": [
    {
     "data": {
      "text/plain": [
       "Index(['Unnamed: 0', '用途', '编号', '行政区', '区县', '宗地名称', '宗地位置', '面积（平方米）',\n",
       "       '交易方式', '出让年限', '限高', '起始价格（万元）', '成交价格（万元）', '容积率（上限）', '容积率（下限）',\n",
       "       '成交时间', 'id', '受让单位'],\n",
       "      dtype='object')"
      ]
     },
     "execution_count": 4,
     "metadata": {},
     "output_type": "execute_result"
    }
   ],
   "source": [
    "data.columns"
   ]
  },
  {
   "cell_type": "code",
   "execution_count": 5,
   "metadata": {},
   "outputs": [],
   "source": [
    "data['容积率'] = data['容积率（下限）'].fillna(data['容积率（上限）'])"
   ]
  },
  {
   "cell_type": "code",
   "execution_count": 6,
   "metadata": {},
   "outputs": [],
   "source": [
    "data['建筑面积（平方米）'] = data['面积（平方米）']*data['容积率']"
   ]
  },
  {
   "cell_type": "code",
   "execution_count": 7,
   "metadata": {},
   "outputs": [],
   "source": [
    "data['省市'] = '济南市'"
   ]
  },
  {
   "cell_type": "code",
   "execution_count": 8,
   "metadata": {},
   "outputs": [],
   "source": [
    "def parse(s):\n",
    "    if s == '网上交易（挂牌）':\n",
    "        s = '挂牌'\n",
    "    return s\n",
    "data['交易方式'] = data['交易方式'].apply(parse)"
   ]
  },
  {
   "cell_type": "code",
   "execution_count": 9,
   "metadata": {},
   "outputs": [],
   "source": [
    "data['成交价格（万元）'] = data['成交价格（万元）'].fillna('/')"
   ]
  },
  {
   "cell_type": "code",
   "execution_count": 10,
   "metadata": {},
   "outputs": [],
   "source": [
    "data['限高'] = data['限高'].fillna('/')"
   ]
  },
  {
   "cell_type": "code",
   "execution_count": 11,
   "metadata": {},
   "outputs": [],
   "source": [
    "def parse_func(s):\n",
    "    if type(s) != type(1.0):\n",
    "        return s[:10].replace('-','/')\n",
    "data['成交时间']=data['成交时间'].apply(parse_func)"
   ]
  },
  {
   "cell_type": "code",
   "execution_count": 12,
   "metadata": {},
   "outputs": [],
   "source": [
    "data['成交年份'] = data['成交时间'].astype(str).str[:4]"
   ]
  },
  {
   "cell_type": "code",
   "execution_count": 13,
   "metadata": {},
   "outputs": [],
   "source": [
    "def parse_func(s):\n",
    "    if s:\n",
    "        li = s.split('/')\n",
    "        return li[0]+'年'+li[1]+\"月\"+li[2]+\"日\"\n",
    "data['成交年月'] = data['成交时间'].apply(parse_func)"
   ]
  },
  {
   "cell_type": "code",
   "execution_count": 14,
   "metadata": {},
   "outputs": [],
   "source": [
    "data = data.rename(columns={\"编号\": \"地块公告号\",\"用途\":\"土地用途\", '面积（平方米）':\"地块面积（平方米）\"})"
   ]
  },
  {
   "cell_type": "code",
   "execution_count": 15,
   "metadata": {},
   "outputs": [],
   "source": [
    "columns = ['土地用途','省市','区县','地块公告号','宗地名称','宗地位置', '出让年限','交易方式','起始价格（万元）','成交价格（万元）','成交年份','成交年份','成交时间','地块面积（平方米）','容积率','建筑面积（平方米）', '限高','受让单位','id']"
   ]
  },
  {
   "cell_type": "code",
   "execution_count": 18,
   "metadata": {},
   "outputs": [],
   "source": [
    "data[columns].to_excel('result.xlsx')"
   ]
  },
  {
   "cell_type": "code",
   "execution_count": null,
   "metadata": {},
   "outputs": [],
   "source": []
  }
 ],
 "metadata": {
  "kernelspec": {
   "display_name": "Python 3",
   "language": "python",
   "name": "python3"
  },
  "language_info": {
   "codemirror_mode": {
    "name": "ipython",
    "version": 3
   },
   "file_extension": ".py",
   "mimetype": "text/x-python",
   "name": "python",
   "nbconvert_exporter": "python",
   "pygments_lexer": "ipython3",
   "version": "3.7.6"
  }
 },
 "nbformat": 4,
 "nbformat_minor": 4
}

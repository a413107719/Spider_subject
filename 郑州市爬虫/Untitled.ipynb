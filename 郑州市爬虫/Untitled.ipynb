{
 "cells": [
  {
   "cell_type": "code",
   "execution_count": 54,
   "metadata": {},
   "outputs": [],
   "source": [
    "import pandas as pd\n",
    "import numpy as np"
   ]
  },
  {
   "cell_type": "code",
   "execution_count": 130,
   "metadata": {},
   "outputs": [],
   "source": [
    "string = \"\"\"\n",
    "<table border=\"1\" cellspacing=\"0\" class=\"MsoNormalTable\" style=\"border: currentColor; border-image: none; width: 444.55pt; margin-left: -0.05pt; border-collapse: collapse; mso-table-layout-alt: fixed; mso-border-left-alt: 0.5000pt solid windowtext; mso-border-top-alt: 0.5000pt solid windowtext; mso-border-right-alt: 0.5000pt solid windowtext; mso-border-bottom-alt: 0.5000pt solid windowtext; mso-border-insideh: 0.5000pt solid windowtext; mso-border-insidev: 0.5000pt solid windowtext; mso-padding-alt: 0.0000pt 5.4000pt 0.0000pt 5.4000pt;\">\n",
    "<tbody>\n",
    "<tr style=\"height: 63.35pt;\">\n",
    "<td style=\"padding: 0pt 5.4pt; border: 1pt solid windowtext; border-image: none; width: 20.45pt; mso-border-left-alt: 0.5000pt solid windowtext; mso-border-top-alt: 0.5000pt solid windowtext; mso-border-right-alt: 0.5000pt solid windowtext; mso-border-bottom-alt: 0.5000pt solid windowtext;\" valign=\"center\" width=\"27\">\n",
    "<p align=\"center\" class=\"MsoNormal\" style=\"text-align: center; line-height: 28pt; mso-line-height-rule: exactly;\"><span style=\"font-family: 宋体; font-size: 9pt; mso-font-kerning: 1.0000pt;\" yes=\"\">序号</span><span style=\"font-family: 宋体; font-size: 9pt; mso-font-kerning: 1.0000pt;\"><o:p></o:p></span></p>\n",
    "</td>\n",
    "<td style=\"border-width: 1pt 1pt 1pt medium; border-style: solid solid solid none; border-color: windowtext windowtext windowtext currentColor; padding: 0pt 5.4pt; width: 51.85pt; mso-border-left-alt: none; mso-border-top-alt: 0.5000pt solid windowtext; mso-border-right-alt: 0.5000pt solid windowtext; mso-border-bottom-alt: 0.5000pt solid windowtext;\" valign=\"center\" width=\"69\">\n",
    "<p align=\"center\" class=\"MsoNormal\" style=\"text-align: center; line-height: 28pt; mso-line-height-rule: exactly;\"><span style=\"font-family: 宋体; font-size: 9pt; mso-font-kerning: 1.0000pt;\" yes=\"\">地块编号</span><span style=\"font-family: 宋体; font-size: 9pt; mso-font-kerning: 1.0000pt;\"><o:p></o:p></span></p>\n",
    "</td>\n",
    "<td style=\"border-width: 1pt 1pt 1pt medium; border-style: solid solid solid none; border-color: windowtext windowtext windowtext currentColor; padding: 0pt 5.4pt; width: 85.2pt; mso-border-left-alt: none; mso-border-top-alt: 0.5000pt solid windowtext; mso-border-right-alt: 0.5000pt solid windowtext; mso-border-bottom-alt: 0.5000pt solid windowtext;\" valign=\"top\" width=\"113\">\n",
    "<p align=\"center\" class=\"MsoNormal\" style=\"text-align: center; line-height: 28pt; mso-line-height-rule: exactly;\"><span style=\"font-family: 宋体; font-size: 9pt; mso-font-kerning: 1.0000pt;\" yes=\"\">土地面积</span><span style=\"font-family: 宋体; font-size: 9pt; mso-font-kerning: 1.0000pt;\"><o:p></o:p></span></p>\n",
    "<p align=\"center\" class=\"MsoNormal\" style=\"text-align: center; line-height: 28pt; mso-line-height-rule: exactly;\"><span style=\"font-family: 宋体; font-size: 9pt; mso-font-kerning: 1.0000pt;\" yes=\"\">（平方米）</span><span style=\"font-family: 宋体; font-size: 9pt; mso-font-kerning: 1.0000pt;\"><o:p></o:p></span></p>\n",
    "</td>\n",
    "<td style=\"border-width: 1pt 1pt 1pt medium; border-style: solid solid solid none; border-color: windowtext windowtext windowtext currentColor; padding: 0pt 5.4pt; width: 103.1pt; mso-border-left-alt: none; mso-border-top-alt: 0.5000pt solid windowtext; mso-border-right-alt: 0.5000pt solid windowtext; mso-border-bottom-alt: 0.5000pt solid windowtext;\" valign=\"center\" width=\"137\">\n",
    "<p align=\"center\" class=\"MsoNormal\" style=\"text-align: center; line-height: 28pt; mso-line-height-rule: exactly;\"><span style=\"font-family: 宋体; font-size: 9pt; mso-font-kerning: 1.0000pt;\" yes=\"\">位置</span><span style=\"font-family: 宋体; font-size: 9pt; mso-font-kerning: 1.0000pt;\"><o:p></o:p></span></p>\n",
    "</td>\n",
    "<td style=\"border-width: 1pt 1pt 1pt medium; border-style: solid solid solid none; border-color: windowtext windowtext windowtext currentColor; padding: 0pt 5.4pt; width: 55.1pt; mso-border-left-alt: none; mso-border-top-alt: 0.5000pt solid windowtext; mso-border-right-alt: 0.5000pt solid windowtext; mso-border-bottom-alt: 0.5000pt solid windowtext;\" valign=\"center\" width=\"73\">\n",
    "<p align=\"center\" class=\"MsoNormal\" style=\"text-align: center; line-height: 28pt; mso-line-height-rule: exactly;\"><span style=\"font-family: 宋体; font-size: 9pt; mso-font-kerning: 1.0000pt;\" yes=\"\">土地用途</span><span style=\"font-family: 宋体; font-size: 9pt; mso-font-kerning: 1.0000pt;\"><o:p></o:p></span></p>\n",
    "</td>\n",
    "<td style=\"border-width: 1pt 1pt 1pt medium; border-style: solid solid solid none; border-color: windowtext windowtext windowtext currentColor; padding: 0pt 5.4pt; width: 67.5pt; mso-border-left-alt: none; mso-border-top-alt: 0.5000pt solid windowtext; mso-border-right-alt: 0.5000pt solid windowtext; mso-border-bottom-alt: 0.5000pt solid windowtext;\" valign=\"center\" width=\"90\">\n",
    "<p align=\"center\" class=\"MsoNormal\" style=\"text-align: center; line-height: 28pt; mso-line-height-rule: exactly;\"><span style=\"font-family: 宋体; font-size: 9pt; mso-font-kerning: 1.0000pt;\" yes=\"\">成交价</span><span style=\"font-family: 宋体; font-size: 9pt; mso-font-kerning: 1.0000pt;\"><o:p></o:p></span></p>\n",
    "<p align=\"center\" class=\"MsoNormal\" style=\"text-align: center; line-height: 28pt; mso-line-height-rule: exactly;\"><span style=\"font-family: 宋体; font-size: 9pt; mso-font-kerning: 1.0000pt;\" yes=\"\">（万元）</span><span style=\"font-family: 宋体; font-size: 9pt; mso-font-kerning: 1.0000pt;\"><o:p></o:p></span></p>\n",
    "</td>\n",
    "<td style=\"border-width: 1pt 1pt 1pt medium; border-style: solid solid solid none; border-color: windowtext windowtext windowtext currentColor; padding: 0pt 5.4pt; width: 61.35pt; mso-border-left-alt: none; mso-border-top-alt: 0.5000pt solid windowtext; mso-border-right-alt: 0.5000pt solid windowtext; mso-border-bottom-alt: 0.5000pt solid windowtext;\" valign=\"center\" width=\"81\">\n",
    "<p align=\"center\" class=\"MsoNormal\" style=\"text-align: center; line-height: 28pt; mso-line-height-rule: exactly;\"><span style=\"font-family: 宋体; font-size: 9pt; mso-font-kerning: 1.0000pt;\" yes=\"\">竞得人</span><span style=\"font-family: 宋体; font-size: 9pt; mso-font-kerning: 1.0000pt;\"><o:p></o:p></span></p>\n",
    "</td>\n",
    "</tr>\n",
    "<tr style=\"height: 75.4pt;\">\n",
    "<td style=\"border-width: medium 1pt 1pt; border-style: none solid solid; border-color: currentColor windowtext windowtext; padding: 0pt 5.4pt; width: 20.45pt; mso-border-left-alt: 0.5000pt solid windowtext; mso-border-top-alt: 0.5000pt solid windowtext; mso-border-right-alt: 0.5000pt solid windowtext; mso-border-bottom-alt: 0.5000pt solid windowtext;\" valign=\"top\" width=\"27\">\n",
    "<p align=\"center\" class=\"MsoNormal\" style=\"text-align: center; line-height: 28pt; mso-line-height-rule: exactly;\"><span style=\"font-family: 宋体; font-size: 9pt; mso-font-kerning: 1.0000pt;\">1</span><span style=\"font-family: 宋体; font-size: 9pt; mso-font-kerning: 1.0000pt;\"><o:p></o:p></span></p>\n",
    "</td>\n",
    "<td style=\"border-width: medium 1pt 1pt medium; border-style: none solid solid none; border-color: currentColor windowtext windowtext currentColor; padding: 0pt 5.4pt; width: 51.85pt; mso-border-left-alt: none; mso-border-top-alt: 0.5000pt solid windowtext; mso-border-right-alt: 0.5000pt solid windowtext; mso-border-bottom-alt: 0.5000pt solid windowtext;\" valign=\"top\" width=\"69\">\n",
    "<p align=\"center\" class=\"MsoNormal\" style=\"text-align: center; line-height: 28pt; mso-line-height-rule: exactly;\"><span style=\"font-family: 宋体; font-size: 9pt; mso-font-kerning: 1.0000pt;\" yes=\"\">牟政出【201</span><span style=\"font-family: 宋体; font-size: 9pt; mso-font-kerning: 1.0000pt;\">9</span><span style=\"font-family: 宋体; font-size: 9pt; mso-font-kerning: 1.0000pt;\">】</span><span style=\"font-family: 宋体; font-size: 9pt; mso-font-kerning: 1.0000pt;\" yes=\"\">126</span><span style=\"font-family: 宋体; font-size: 9pt; mso-font-kerning: 1.0000pt;\" yes=\"\">号(网)</span><span style=\"font-family: 宋体; font-size: 9pt; mso-font-kerning: 1.0000pt;\"><o:p></o:p></span></p>\n",
    "</td>\n",
    "<td style=\"border-width: medium 1pt 1pt medium; border-style: none solid solid none; border-color: currentColor windowtext windowtext currentColor; padding: 0pt 5.4pt; width: 85.2pt; mso-border-left-alt: none; mso-border-top-alt: 0.5000pt solid windowtext; mso-border-right-alt: 0.5000pt solid windowtext; mso-border-bottom-alt: 0.5000pt solid windowtext;\" valign=\"center\" width=\"113\">\n",
    "<p align=\"center\" class=\"MsoNormal\" style=\"text-align: center; line-height: 28pt; mso-line-height-rule: exactly;\"><span style=\"font-family: 宋体; font-size: 9pt; mso-font-kerning: 1.0000pt;\"><o:p><span new=\"\" roman=\"\" style=\"font-family:;\" times=\"\">地上面积：</span><span new=\"\" roman=\"\" style=\"font-family: 方正仿宋_GBK; font-size: 10.5pt;\" yes=\"\">68655.03</span><span new=\"\" roman=\"\" style=\"font-family:;\" times=\"\">；地下空间面积：</span><span new=\"\" roman=\"\" style=\"font-family: 方正仿宋_GBK; font-size: 10.5pt;\" yes=\"\">68655.03<font face=\"方正仿宋_GBK\">；</font></span><br/>\n",
    "</o:p></span></p>\n",
    "</td>\n",
    "<td style=\"border-width: medium 1pt 1pt medium; border-style: none solid solid none; border-color: currentColor windowtext windowtext currentColor; padding: 0pt 5.4pt; width: 103.1pt; mso-border-left-alt: none; mso-border-top-alt: 0.5000pt solid windowtext; mso-border-right-alt: 0.5000pt solid windowtext; mso-border-bottom-alt: 0.5000pt solid windowtext;\" valign=\"top\" width=\"137\">\n",
    "<p align=\"center\" class=\"MsoNormal\" style=\"text-align: center; line-height: 28pt; mso-line-height-rule: exactly;\"><span style=\"font-family: 宋体; font-size: 9pt; mso-font-kerning: 1.0000pt;\"><o:p>\n",
    "</o:p></span>\n",
    "</p><p align=\"center\" class=\"MsoNormal\" style=\"text-align: center; line-height: 12pt; mso-line-height-rule: exactly;\"><span new=\"\" roman=\"\" style=\"font-family:;\" times=\"\">郑州国际文化创意产业园九州路以北、紫薇路以西；</span><span new=\"\" roman=\"\" style=\"font-family:;\" times=\"\"><o:p></o:p></span></p>\n",
    "<p align=\"center\" class=\"MsoNormal\" style=\"text-align: center; line-height: 12pt; mso-line-height-rule: exactly;\"><span new=\"\" roman=\"\" style=\"top: -1pt; color: rgb(0, 0, 0); letter-spacing: 0.1pt; font-family: 方正仿宋_GBK; font-size: 10.5pt; font-weight: normal; position: relative; mso-font-kerning: 1.0000pt;\" times=\"\"><o:p> </o:p></span></p>\n",
    "<p></p>\n",
    "</td>\n",
    "<td style=\"border-width: medium 1pt 1pt medium; border-style: none solid solid none; border-color: currentColor windowtext windowtext currentColor; padding: 0pt 5.4pt; width: 55.1pt; mso-border-left-alt: none; mso-border-top-alt: 0.5000pt solid windowtext; mso-border-right-alt: 0.5000pt solid windowtext; mso-border-bottom-alt: 0.5000pt solid windowtext;\" valign=\"center\" width=\"73\">\n",
    "<p align=\"center\" class=\"MsoNormal\" style=\"text-align: center; line-height: 28pt; mso-line-height-rule: exactly;\"><span style=\"font-family: 宋体; font-size: 9pt; mso-font-kerning: 1.0000pt;\" yes=\"\">地面城镇住宅用地；地下空间交通服务场站用地；</span><span style=\"font-family: 宋体; font-size: 9pt; mso-font-kerning: 1.0000pt;\"><o:p></o:p></span></p>\n",
    "</td>\n",
    "<td style=\"border-width: medium 1pt 1pt medium; border-style: none solid solid none; border-color: currentColor windowtext windowtext currentColor; padding: 0pt 5.4pt; width: 67.5pt; mso-border-left-alt: none; mso-border-top-alt: 0.5000pt solid windowtext; mso-border-right-alt: 0.5000pt solid windowtext; mso-border-bottom-alt: 0.5000pt solid windowtext;\" valign=\"center\" width=\"90\">\n",
    "<p class=\"MsoNormal\" style=\"text-align: center; mso-pagination: widow-orphan;\"><span style=\"font-family: 宋体; font-size: 9pt; mso-font-kerning: 1.0000pt;\" yes=\"\">46060</span></p>\n",
    "</td>\n",
    "<td style=\"border-width: medium 1pt 1pt medium; border-style: none solid solid none; border-color: currentColor windowtext windowtext currentColor; padding: 0pt 5.4pt; width: 61.35pt; mso-border-left-alt: none; mso-border-top-alt: 0.5000pt solid windowtext; mso-border-right-alt: 0.5000pt solid windowtext; mso-border-bottom-alt: 0.5000pt solid windowtext;\" valign=\"top\" width=\"81\">\n",
    "<p align=\"center\" class=\"MsoNormal\" style=\"text-align: center; line-height: 28pt; mso-line-height-rule: exactly;\"><span style=\"font-family: 宋体; font-size: 9pt; mso-font-kerning: 1.0000pt;\" yes=\"\">郑州绿荣置业有限公司</span><span style=\"font-family: 宋体; font-size: 9pt; mso-font-kerning: 1.0000pt;\"><o:p></o:p></span></p>\n",
    "</td>\n",
    "</tr>\n",
    "</tbody>\n",
    "</table>\n",
    "\"\"\""
   ]
  },
  {
   "cell_type": "code",
   "execution_count": 131,
   "metadata": {},
   "outputs": [],
   "source": [
    "data = pd.read_html(string)"
   ]
  },
  {
   "cell_type": "code",
   "execution_count": 132,
   "metadata": {},
   "outputs": [],
   "source": [
    "data = data[0]"
   ]
  },
  {
   "cell_type": "code",
   "execution_count": 133,
   "metadata": {},
   "outputs": [],
   "source": [
    "data.columns = [s.replace(' ','').replace('\\n', '') for s in data.iloc[0:1].to_numpy().tolist()[0]]"
   ]
  },
  {
   "cell_type": "code",
   "execution_count": 134,
   "metadata": {},
   "outputs": [
    {
     "data": {
      "text/html": [
       "<div>\n",
       "<style scoped>\n",
       "    .dataframe tbody tr th:only-of-type {\n",
       "        vertical-align: middle;\n",
       "    }\n",
       "\n",
       "    .dataframe tbody tr th {\n",
       "        vertical-align: top;\n",
       "    }\n",
       "\n",
       "    .dataframe thead th {\n",
       "        text-align: right;\n",
       "    }\n",
       "</style>\n",
       "<table border=\"1\" class=\"dataframe\">\n",
       "  <thead>\n",
       "    <tr style=\"text-align: right;\">\n",
       "      <th></th>\n",
       "      <th>序号</th>\n",
       "      <th>地块编号</th>\n",
       "      <th>土地面积（平方米）</th>\n",
       "      <th>位置</th>\n",
       "      <th>土地用途</th>\n",
       "      <th>成交价（万元）</th>\n",
       "      <th>竞得人</th>\n",
       "    </tr>\n",
       "  </thead>\n",
       "  <tbody>\n",
       "    <tr>\n",
       "      <th>0</th>\n",
       "      <td>序号</td>\n",
       "      <td>地块编号</td>\n",
       "      <td>土地面积 （平方米）</td>\n",
       "      <td>位置</td>\n",
       "      <td>土地用途</td>\n",
       "      <td>成交价 （万元）</td>\n",
       "      <td>竞得人</td>\n",
       "    </tr>\n",
       "    <tr>\n",
       "      <th>1</th>\n",
       "      <td>1</td>\n",
       "      <td>牟政出【2019】126号(网)</td>\n",
       "      <td>地上面积：68655.03；地下空间面积：68655.03；</td>\n",
       "      <td>郑州国际文化创意产业园九州路以北、紫薇路以西；</td>\n",
       "      <td>地面城镇住宅用地；地下空间交通服务场站用地；</td>\n",
       "      <td>46060</td>\n",
       "      <td>郑州绿荣置业有限公司</td>\n",
       "    </tr>\n",
       "  </tbody>\n",
       "</table>\n",
       "</div>"
      ],
      "text/plain": [
       "   序号              地块编号                       土地面积（平方米）  \\\n",
       "0  序号              地块编号                      土地面积 （平方米）   \n",
       "1   1  牟政出【2019】126号(网)  地上面积：68655.03；地下空间面积：68655.03；   \n",
       "\n",
       "                        位置                    土地用途   成交价（万元）         竞得人  \n",
       "0                       位置                    土地用途  成交价 （万元）         竞得人  \n",
       "1  郑州国际文化创意产业园九州路以北、紫薇路以西；  地面城镇住宅用地；地下空间交通服务场站用地；     46060  郑州绿荣置业有限公司  "
      ]
     },
     "execution_count": 134,
     "metadata": {},
     "output_type": "execute_result"
    }
   ],
   "source": [
    "data"
   ]
  },
  {
   "cell_type": "code",
   "execution_count": 136,
   "metadata": {},
   "outputs": [
    {
     "data": {
      "text/plain": [
       "[{'序号': '1',\n",
       "  '地块编号': '牟政出【2019】126号(网)',\n",
       "  '土地面积（平方米）': '地上面积：68655.03；地下空间面积：68655.03；',\n",
       "  '位置': '郑州国际文化创意产业园九州路以北、紫薇路以西；',\n",
       "  '土地用途': '地面城镇住宅用地；地下空间交通服务场站用地；',\n",
       "  '成交价（万元）': '46060',\n",
       "  '竞得人': '郑州绿荣置业有限公司'}]"
      ]
     },
     "execution_count": 136,
     "metadata": {},
     "output_type": "execute_result"
    }
   ],
   "source": [
    "list(data.T.to_dict().values())[1:]"
   ]
  },
  {
   "cell_type": "code",
   "execution_count": 93,
   "metadata": {},
   "outputs": [],
   "source": [
    "s = 'sadfsdfeedgdfg'"
   ]
  },
  {
   "cell_type": "code",
   "execution_count": 94,
   "metadata": {},
   "outputs": [
    {
     "data": {
      "text/plain": [
       "'adfdfeedgdfg'"
      ]
     },
     "execution_count": 94,
     "metadata": {},
     "output_type": "execute_result"
    }
   ],
   "source": [
    "s.replace('s','')"
   ]
  },
  {
   "cell_type": "code",
   "execution_count": 95,
   "metadata": {},
   "outputs": [
    {
     "data": {
      "text/plain": [
       "'sadfsdfeedgdfg'"
      ]
     },
     "execution_count": 95,
     "metadata": {},
     "output_type": "execute_result"
    }
   ],
   "source": [
    "s"
   ]
  },
  {
   "cell_type": "code",
   "execution_count": null,
   "metadata": {},
   "outputs": [],
   "source": []
  }
 ],
 "metadata": {
  "kernelspec": {
   "display_name": "Python 3",
   "language": "python",
   "name": "python3"
  },
  "language_info": {
   "codemirror_mode": {
    "name": "ipython",
    "version": 3
   },
   "file_extension": ".py",
   "mimetype": "text/x-python",
   "name": "python",
   "nbconvert_exporter": "python",
   "pygments_lexer": "ipython3",
   "version": "3.7.6"
  }
 },
 "nbformat": 4,
 "nbformat_minor": 4
}

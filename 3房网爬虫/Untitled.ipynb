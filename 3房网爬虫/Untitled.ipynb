{
 "cells": [
  {
   "cell_type": "code",
   "execution_count": 1,
   "metadata": {},
   "outputs": [],
   "source": [
    "import os\n",
    "import re\n",
    "import pandas as pd\n",
    "import requests"
   ]
  },
  {
   "cell_type": "code",
   "execution_count": null,
   "metadata": {},
   "outputs": [],
   "source": [
    "for file in os.listdir('./urls'):\n",
    "    url = pd.read_csv('./urls/%s'%file)\n",
    "    result = pd.read_csv('./data/%s'%file)\n",
    "    url = url[~url['url'].isin(result['url'])]\n",
    "    url.to_csv('./restdata/%s'%file)"
   ]
  },
  {
   "cell_type": "code",
   "execution_count": null,
   "metadata": {},
   "outputs": [],
   "source": [
    "for file in os.listdir('./data'):\n",
    "    pd.read_csv('./data/%s'%file).drop_duplicates(inplace=True).to_csv('.//%s'%file)"
   ]
  },
  {
   "cell_type": "code",
   "execution_count": null,
   "metadata": {},
   "outputs": [],
   "source": [
    "path = os.listdir('./data')[7][:-4]"
   ]
  },
  {
   "cell_type": "code",
   "execution_count": null,
   "metadata": {},
   "outputs": [],
   "source": [
    "data = pd.read_csv('./data/%s.csv'%path)"
   ]
  },
  {
   "cell_type": "code",
   "execution_count": null,
   "metadata": {},
   "outputs": [],
   "source": [
    "data = data[data['成交时间']!='成交时间'].copy()"
   ]
  },
  {
   "cell_type": "code",
   "execution_count": null,
   "metadata": {},
   "outputs": [],
   "source": [
    "def parse_func(s):\n",
    "    try:\n",
    "        if '-' in s:\n",
    "            return s[:4]\n",
    "    except:\n",
    "        print(s)\n",
    "    return s\n",
    "data['成交年份'] = data['成交时间'].apply(parse_func)"
   ]
  },
  {
   "cell_type": "code",
   "execution_count": null,
   "metadata": {},
   "outputs": [],
   "source": [
    "def parse_func(s):\n",
    "    try:\n",
    "        if '-' in s:\n",
    "            return s.replace('-','年',1).replace('-','月',1)[:8]\n",
    "    except:\n",
    "        print(s)\n",
    "    return s\n",
    "data['成交年月'] = data['成交时间'].apply(parse_func)"
   ]
  },
  {
   "cell_type": "code",
   "execution_count": null,
   "metadata": {},
   "outputs": [],
   "source": [
    "def parse_func(s):\n",
    "    try:\n",
    "        if '-' in s:\n",
    "            return s.replace('-','/')\n",
    "    except:\n",
    "        print(s)\n",
    "    return s\n",
    "data['成交时间'] = data['成交时间'].apply(parse_func)"
   ]
  },
  {
   "cell_type": "code",
   "execution_count": null,
   "metadata": {},
   "outputs": [],
   "source": [
    "def parse_func(s):\n",
    "    try:\n",
    "        s = re.findall('\\d?\\.?\\d',s)[-1]\n",
    "    except:\n",
    "        pass\n",
    "    return s\n",
    "data['容积率(新)'] = data['容积率'].apply(parse_func)"
   ]
  },
  {
   "cell_type": "code",
   "execution_count": null,
   "metadata": {},
   "outputs": [],
   "source": [
    "data['区县(新)'] = data['区县'].astype(str).str[:3]"
   ]
  },
  {
   "cell_type": "code",
   "execution_count": null,
   "metadata": {},
   "outputs": [],
   "source": [
    "data.to_excel('./result/%s.xlsx'%path)"
   ]
  },
  {
   "cell_type": "code",
   "execution_count": 2,
   "metadata": {},
   "outputs": [],
   "source": [
    "def gaodelocation(keyword):\n",
    "    params = {\n",
    "        \"key\": \"d3c362e23d62acb3b586bad0f68bd826\",\n",
    "        \"keywords\": keyword,\n",
    "        \"types\": 190301,\n",
    "        'city': 410100,\n",
    "        'citylimit':True,\n",
    "#         'citylimit': True,\n",
    "    }\n",
    "    r = requests.get('https://restapi.amap.com/v3/place/text', params=params)\n",
    "    if r.ok:\n",
    "        result = r.json()\n",
    "        try:\n",
    "            s = \"\"\n",
    "            for location in result['pois']:\n",
    "                if location['name'] in keyword:\n",
    "                    s += location['address']\n",
    "            return s\n",
    "        except:\n",
    "            pass\n",
    "\n",
    "def baidulocation(keyword):\n",
    "    params = {\n",
    "        \"query\": keyword,\n",
    "#         \"tag\": '道路',\n",
    "        'region': 268,\n",
    "        'citylimit':True,\n",
    "        'scope':1,\n",
    "        'output':'json',\n",
    "        'ak':\"zLGTXliTc8proPtie1czOvX1VMXQM5TT\",\n",
    "    }\n",
    "    r = requests.get('http://api.map.baidu.com/place/v2/search', params=params)\n",
    "    if r.ok:\n",
    "        result = r.json()\n",
    "#         print(result)\n",
    "        try:\n",
    "            for location in result['results']:\n",
    "                if location['name'] in keyword:\n",
    "                    return location['area']\n",
    "        except:\n",
    "            pass"
   ]
  },
  {
   "cell_type": "code",
   "execution_count": 3,
   "metadata": {},
   "outputs": [],
   "source": [
    "data = pd.read_excel('./result/住宅用地.xlsx')"
   ]
  },
  {
   "cell_type": "code",
   "execution_count": 4,
   "metadata": {},
   "outputs": [],
   "source": [
    "data.loc[data['区县(新)']=='土地招','区县(新)'] = data.loc[data['区县(新)']=='土地招','宗地位置'].apply(gaodelocation)"
   ]
  },
  {
   "cell_type": "code",
   "execution_count": 5,
   "metadata": {},
   "outputs": [],
   "source": [
    "data['起始价格（万元）'] = data['起始价（万元）'].astype(str).str.replace('万元','')\n",
    "data['成交价格（万元）'] = data['成交价（万元）'].astype(str).str.replace('万元','')\n",
    "data['出让年限'] = data['出让年限'].astype(str).str.replace('年','')"
   ]
  },
  {
   "cell_type": "code",
   "execution_count": 6,
   "metadata": {},
   "outputs": [],
   "source": [
    "# def height(keyword):\n",
    "#     try:\n",
    "#         x = re.findall('\\d+', keyword)[-1]\n",
    "#         return x\n",
    "#     except:\n",
    "#         return keyword\n",
    "# data['限高'] = data['限高（米）'].apply(height)"
   ]
  },
  {
   "cell_type": "code",
   "execution_count": 7,
   "metadata": {},
   "outputs": [
    {
     "data": {
      "text/plain": [
       "Index(['Unnamed: 0', '用途', '宗地名称', '省市', '区县', '地块公告号', '宗地位置', '出让年限', '交易方式',\n",
       "       '起始价（万元）', '成交价（万元）', '溢价率', '成交时间', '地块面积（平方米）', '建筑面积（平方米）', '限高（米）',\n",
       "       '受让单位', '交易状况', 'url', '成交年份', '成交年月', '容积率(新)', '区县(新)', '起始价格（万元）',\n",
       "       '成交价格（万元）'],\n",
       "      dtype='object')"
      ]
     },
     "execution_count": 7,
     "metadata": {},
     "output_type": "execute_result"
    }
   ],
   "source": [
    "data.columns"
   ]
  },
  {
   "cell_type": "code",
   "execution_count": 8,
   "metadata": {},
   "outputs": [
    {
     "ename": "KeyError",
     "evalue": "\"['容积率'] not in index\"",
     "output_type": "error",
     "traceback": [
      "\u001b[1;31m---------------------------------------------------------------------------\u001b[0m",
      "\u001b[1;31mKeyError\u001b[0m                                  Traceback (most recent call last)",
      "\u001b[1;32m<ipython-input-8-ec3aea6b3388>\u001b[0m in \u001b[0;36m<module>\u001b[1;34m\u001b[0m\n\u001b[1;32m----> 1\u001b[1;33m \u001b[0mresult\u001b[0m \u001b[1;33m=\u001b[0m \u001b[0mdata\u001b[0m\u001b[1;33m[\u001b[0m\u001b[1;33m[\u001b[0m\u001b[1;34m'用途'\u001b[0m\u001b[1;33m,\u001b[0m\u001b[1;34m'省市'\u001b[0m\u001b[1;33m,\u001b[0m\u001b[1;34m'区县'\u001b[0m\u001b[1;33m,\u001b[0m\u001b[1;34m'区县(新)'\u001b[0m\u001b[1;33m,\u001b[0m\u001b[1;34m'地块公告号'\u001b[0m\u001b[1;33m,\u001b[0m\u001b[1;34m'宗地名称'\u001b[0m\u001b[1;33m,\u001b[0m\u001b[1;34m'宗地位置'\u001b[0m\u001b[1;33m,\u001b[0m\u001b[1;34m'出让年限'\u001b[0m\u001b[1;33m,\u001b[0m\u001b[1;34m'交易方式'\u001b[0m\u001b[1;33m,\u001b[0m\u001b[1;34m'起始价格（万元）'\u001b[0m\u001b[1;33m,\u001b[0m\u001b[1;34m'成交价格（万元）'\u001b[0m\u001b[1;33m,\u001b[0m\u001b[1;34m'溢价率'\u001b[0m\u001b[1;33m,\u001b[0m\u001b[1;34m'成交年份'\u001b[0m\u001b[1;33m,\u001b[0m\u001b[1;34m'成交年月'\u001b[0m\u001b[1;33m,\u001b[0m\u001b[1;34m'成交时间'\u001b[0m\u001b[1;33m,\u001b[0m\u001b[1;34m'地块面积（平方米）'\u001b[0m\u001b[1;33m,\u001b[0m\u001b[1;34m'容积率'\u001b[0m\u001b[1;33m,\u001b[0m\u001b[1;34m'建筑面积（平方米）'\u001b[0m\u001b[1;33m,\u001b[0m\u001b[1;34m'限高（米）'\u001b[0m\u001b[1;33m,\u001b[0m\u001b[1;34m'受让单位'\u001b[0m\u001b[1;33m,\u001b[0m\u001b[1;34m'交易状况'\u001b[0m\u001b[1;33m]\u001b[0m\u001b[1;33m]\u001b[0m\u001b[1;33m\u001b[0m\u001b[1;33m\u001b[0m\u001b[0m\n\u001b[0m",
      "\u001b[1;32mD:\\Miniconda3\\envs\\datascience\\lib\\site-packages\\pandas\\core\\frame.py\u001b[0m in \u001b[0;36m__getitem__\u001b[1;34m(self, key)\u001b[0m\n\u001b[0;32m   2804\u001b[0m             \u001b[1;32mif\u001b[0m \u001b[0mis_iterator\u001b[0m\u001b[1;33m(\u001b[0m\u001b[0mkey\u001b[0m\u001b[1;33m)\u001b[0m\u001b[1;33m:\u001b[0m\u001b[1;33m\u001b[0m\u001b[1;33m\u001b[0m\u001b[0m\n\u001b[0;32m   2805\u001b[0m                 \u001b[0mkey\u001b[0m \u001b[1;33m=\u001b[0m \u001b[0mlist\u001b[0m\u001b[1;33m(\u001b[0m\u001b[0mkey\u001b[0m\u001b[1;33m)\u001b[0m\u001b[1;33m\u001b[0m\u001b[1;33m\u001b[0m\u001b[0m\n\u001b[1;32m-> 2806\u001b[1;33m             \u001b[0mindexer\u001b[0m \u001b[1;33m=\u001b[0m \u001b[0mself\u001b[0m\u001b[1;33m.\u001b[0m\u001b[0mloc\u001b[0m\u001b[1;33m.\u001b[0m\u001b[0m_get_listlike_indexer\u001b[0m\u001b[1;33m(\u001b[0m\u001b[0mkey\u001b[0m\u001b[1;33m,\u001b[0m \u001b[0maxis\u001b[0m\u001b[1;33m=\u001b[0m\u001b[1;36m1\u001b[0m\u001b[1;33m,\u001b[0m \u001b[0mraise_missing\u001b[0m\u001b[1;33m=\u001b[0m\u001b[1;32mTrue\u001b[0m\u001b[1;33m)\u001b[0m\u001b[1;33m[\u001b[0m\u001b[1;36m1\u001b[0m\u001b[1;33m]\u001b[0m\u001b[1;33m\u001b[0m\u001b[1;33m\u001b[0m\u001b[0m\n\u001b[0m\u001b[0;32m   2807\u001b[0m \u001b[1;33m\u001b[0m\u001b[0m\n\u001b[0;32m   2808\u001b[0m         \u001b[1;31m# take() does not accept boolean indexers\u001b[0m\u001b[1;33m\u001b[0m\u001b[1;33m\u001b[0m\u001b[1;33m\u001b[0m\u001b[0m\n",
      "\u001b[1;32mD:\\Miniconda3\\envs\\datascience\\lib\\site-packages\\pandas\\core\\indexing.py\u001b[0m in \u001b[0;36m_get_listlike_indexer\u001b[1;34m(self, key, axis, raise_missing)\u001b[0m\n\u001b[0;32m   1551\u001b[0m \u001b[1;33m\u001b[0m\u001b[0m\n\u001b[0;32m   1552\u001b[0m         self._validate_read_indexer(\n\u001b[1;32m-> 1553\u001b[1;33m             \u001b[0mkeyarr\u001b[0m\u001b[1;33m,\u001b[0m \u001b[0mindexer\u001b[0m\u001b[1;33m,\u001b[0m \u001b[0mo\u001b[0m\u001b[1;33m.\u001b[0m\u001b[0m_get_axis_number\u001b[0m\u001b[1;33m(\u001b[0m\u001b[0maxis\u001b[0m\u001b[1;33m)\u001b[0m\u001b[1;33m,\u001b[0m \u001b[0mraise_missing\u001b[0m\u001b[1;33m=\u001b[0m\u001b[0mraise_missing\u001b[0m\u001b[1;33m\u001b[0m\u001b[1;33m\u001b[0m\u001b[0m\n\u001b[0m\u001b[0;32m   1554\u001b[0m         )\n\u001b[0;32m   1555\u001b[0m         \u001b[1;32mreturn\u001b[0m \u001b[0mkeyarr\u001b[0m\u001b[1;33m,\u001b[0m \u001b[0mindexer\u001b[0m\u001b[1;33m\u001b[0m\u001b[1;33m\u001b[0m\u001b[0m\n",
      "\u001b[1;32mD:\\Miniconda3\\envs\\datascience\\lib\\site-packages\\pandas\\core\\indexing.py\u001b[0m in \u001b[0;36m_validate_read_indexer\u001b[1;34m(self, key, indexer, axis, raise_missing)\u001b[0m\n\u001b[0;32m   1644\u001b[0m             \u001b[1;32mif\u001b[0m \u001b[1;32mnot\u001b[0m \u001b[1;33m(\u001b[0m\u001b[0mself\u001b[0m\u001b[1;33m.\u001b[0m\u001b[0mname\u001b[0m \u001b[1;33m==\u001b[0m \u001b[1;34m\"loc\"\u001b[0m \u001b[1;32mand\u001b[0m \u001b[1;32mnot\u001b[0m \u001b[0mraise_missing\u001b[0m\u001b[1;33m)\u001b[0m\u001b[1;33m:\u001b[0m\u001b[1;33m\u001b[0m\u001b[1;33m\u001b[0m\u001b[0m\n\u001b[0;32m   1645\u001b[0m                 \u001b[0mnot_found\u001b[0m \u001b[1;33m=\u001b[0m \u001b[0mlist\u001b[0m\u001b[1;33m(\u001b[0m\u001b[0mset\u001b[0m\u001b[1;33m(\u001b[0m\u001b[0mkey\u001b[0m\u001b[1;33m)\u001b[0m \u001b[1;33m-\u001b[0m \u001b[0mset\u001b[0m\u001b[1;33m(\u001b[0m\u001b[0max\u001b[0m\u001b[1;33m)\u001b[0m\u001b[1;33m)\u001b[0m\u001b[1;33m\u001b[0m\u001b[1;33m\u001b[0m\u001b[0m\n\u001b[1;32m-> 1646\u001b[1;33m                 \u001b[1;32mraise\u001b[0m \u001b[0mKeyError\u001b[0m\u001b[1;33m(\u001b[0m\u001b[1;34mf\"{not_found} not in index\"\u001b[0m\u001b[1;33m)\u001b[0m\u001b[1;33m\u001b[0m\u001b[1;33m\u001b[0m\u001b[0m\n\u001b[0m\u001b[0;32m   1647\u001b[0m \u001b[1;33m\u001b[0m\u001b[0m\n\u001b[0;32m   1648\u001b[0m             \u001b[1;31m# we skip the warning on Categorical/Interval\u001b[0m\u001b[1;33m\u001b[0m\u001b[1;33m\u001b[0m\u001b[1;33m\u001b[0m\u001b[0m\n",
      "\u001b[1;31mKeyError\u001b[0m: \"['容积率'] not in index\""
     ]
    }
   ],
   "source": [
    "result = data[['用途','省市','区县','区县(新)','地块公告号','宗地名称','宗地位置','出让年限','交易方式','起始价格（万元）','成交价格（万元）','溢价率','成交年份','成交年月','成交时间','地块面积（平方米）','容积率','建筑面积（平方米）','限高（米）','受让单位','交易状况']]"
   ]
  },
  {
   "cell_type": "code",
   "execution_count": null,
   "metadata": {},
   "outputs": [],
   "source": [
    "result = result.replace('暂无','/')"
   ]
  },
  {
   "cell_type": "code",
   "execution_count": 28,
   "metadata": {},
   "outputs": [
    {
     "ename": "NameError",
     "evalue": "name 'result' is not defined",
     "output_type": "error",
     "traceback": [
      "\u001b[1;31m---------------------------------------------------------------------------\u001b[0m",
      "\u001b[1;31mNameError\u001b[0m                                 Traceback (most recent call last)",
      "\u001b[1;32m<ipython-input-28-d9a58f149073>\u001b[0m in \u001b[0;36m<module>\u001b[1;34m\u001b[0m\n\u001b[1;32m----> 1\u001b[1;33m \u001b[0mresult\u001b[0m\u001b[1;33m.\u001b[0m\u001b[0mto_excel\u001b[0m\u001b[1;33m(\u001b[0m\u001b[1;34m'./resize/住宅用地.xlsx'\u001b[0m\u001b[1;33m)\u001b[0m\u001b[1;33m\u001b[0m\u001b[1;33m\u001b[0m\u001b[0m\n\u001b[0m",
      "\u001b[1;31mNameError\u001b[0m: name 'result' is not defined"
     ]
    }
   ],
   "source": [
    "result.to_excel('./resize/住宅用地.xlsx')"
   ]
  },
  {
   "cell_type": "code",
   "execution_count": 41,
   "metadata": {},
   "outputs": [],
   "source": [
    "data = pd.read_excel('./resize/工业用地.xlsx')"
   ]
  },
  {
   "cell_type": "code",
   "execution_count": 37,
   "metadata": {},
   "outputs": [],
   "source": [
    "data.drop(['列1'], axis=1, inplace=True)"
   ]
  },
  {
   "cell_type": "code",
   "execution_count": 44,
   "metadata": {},
   "outputs": [],
   "source": [
    "data.loc[data['受让单位']=='/', '备注'] = '未成交'"
   ]
  },
  {
   "cell_type": "code",
   "execution_count": 39,
   "metadata": {},
   "outputs": [],
   "source": [
    "data.loc[data['交易状况']=='已成交', '交易状况'] = None"
   ]
  },
  {
   "cell_type": "code",
   "execution_count": 57,
   "metadata": {},
   "outputs": [],
   "source": [
    "data.to_excel('./resize/final/公建用地.xlsx')"
   ]
  },
  {
   "cell_type": "code",
   "execution_count": 60,
   "metadata": {},
   "outputs": [],
   "source": [
    "data = pd.read_excel('./resize/final/公建用地.xlsx',col_index=0)"
   ]
  },
  {
   "cell_type": "code",
   "execution_count": 68,
   "metadata": {},
   "outputs": [],
   "source": [
    "def fun(s):\n",
    "    try:\n",
    "        return re.findall('\\d+', s)[-1]\n",
    "    except:\n",
    "        return s\n",
    "data['限高（米）'] = data['限高（米）'].apply(fun)"
   ]
  },
  {
   "cell_type": "code",
   "execution_count": 69,
   "metadata": {},
   "outputs": [],
   "source": [
    "data.to_excel('./resize/final/公建用地.xlsx')"
   ]
  },
  {
   "cell_type": "code",
   "execution_count": null,
   "metadata": {},
   "outputs": [],
   "source": []
  }
 ],
 "metadata": {
  "kernelspec": {
   "display_name": "Python 3",
   "language": "python",
   "name": "python3"
  },
  "language_info": {
   "codemirror_mode": {
    "name": "ipython",
    "version": 3
   },
   "file_extension": ".py",
   "mimetype": "text/x-python",
   "name": "python",
   "nbconvert_exporter": "python",
   "pygments_lexer": "ipython3",
   "version": "3.7.7"
  }
 },
 "nbformat": 4,
 "nbformat_minor": 4
}
